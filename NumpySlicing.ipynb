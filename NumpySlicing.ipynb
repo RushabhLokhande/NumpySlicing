{
 "cells": [
  {
   "cell_type": "code",
   "execution_count": 2,
   "metadata": {},
   "outputs": [
    {
     "name": "stdout",
     "output_type": "stream",
     "text": [
      "[10 20 30]\n"
     ]
    }
   ],
   "source": [
    "import numpy as np\n",
    "\n",
    "i = np.array([10, 20, 30, 40, 50, 60, 70, 80])\n",
    "\n",
    "print(i[0:3])"
   ]
  },
  {
   "cell_type": "code",
   "execution_count": 3,
   "metadata": {},
   "outputs": [
    {
     "name": "stdout",
     "output_type": "stream",
     "text": [
      "[40 50 60]\n"
     ]
    }
   ],
   "source": [
    "import numpy as np\n",
    "\n",
    "i = np.array([10, 20, 30, 40, 50, 60, 70, 80])\n",
    "\n",
    "print(i[3:6])"
   ]
  },
  {
   "cell_type": "code",
   "execution_count": 4,
   "metadata": {},
   "outputs": [
    {
     "name": "stdout",
     "output_type": "stream",
     "text": [
      "[30 40 50 60 70 80]\n"
     ]
    }
   ],
   "source": [
    "import numpy as np\n",
    "\n",
    "i = np.array([10, 20, 30, 40, 50, 60, 70, 80])\n",
    "\n",
    "print(i[2:])"
   ]
  },
  {
   "cell_type": "code",
   "execution_count": 5,
   "metadata": {},
   "outputs": [
    {
     "name": "stdout",
     "output_type": "stream",
     "text": [
      "[10 20 30 40 50 60]\n"
     ]
    }
   ],
   "source": [
    "import numpy as np\n",
    "\n",
    "i = np.array([10, 20, 30, 40, 50, 60, 70, 80])\n",
    "\n",
    "print(i[ : 6])"
   ]
  },
  {
   "cell_type": "code",
   "execution_count": 6,
   "metadata": {},
   "outputs": [
    {
     "name": "stdout",
     "output_type": "stream",
     "text": [
      "[40 50 60]\n"
     ]
    }
   ],
   "source": [
    "import numpy as np\n",
    "\n",
    "i = np.array([10, 20, 30, 40, 50, 60, 70, 80])\n",
    "\n",
    "print(i[-5 :-2])"
   ]
  },
  {
   "cell_type": "code",
   "execution_count": 7,
   "metadata": {},
   "outputs": [
    {
     "name": "stdout",
     "output_type": "stream",
     "text": [
      "[60 70]\n"
     ]
    }
   ],
   "source": [
    "i = np.array([10, 20, 30, 40, 50, 60, 70, 80])\n",
    "\n",
    "print(i[-3 :-1])"
   ]
  },
  {
   "cell_type": "code",
   "execution_count": 8,
   "metadata": {},
   "outputs": [
    {
     "name": "stdout",
     "output_type": "stream",
     "text": [
      "[10 30]\n"
     ]
    }
   ],
   "source": [
    "import numpy as np\n",
    "\n",
    "i = np.array([10, 20, 30, 40, 50, 60, 70, 80])\n",
    "\n",
    "print(i[0:4:2])"
   ]
  },
  {
   "cell_type": "code",
   "execution_count": 9,
   "metadata": {},
   "outputs": [
    {
     "name": "stdout",
     "output_type": "stream",
     "text": [
      "[10 40 70]\n"
     ]
    }
   ],
   "source": [
    "import numpy as np\n",
    "\n",
    "i = np.array([10, 20, 30, 40, 50, 60, 70, 80])\n",
    "\n",
    "print(i[0:7:3])"
   ]
  },
  {
   "cell_type": "code",
   "execution_count": 10,
   "metadata": {},
   "outputs": [
    {
     "name": "stdout",
     "output_type": "stream",
     "text": [
      "[10 20 30 40 50 60 70 80]\n"
     ]
    }
   ],
   "source": [
    "import numpy as np\n",
    "\n",
    "i = np.array([10, 20, 30, 40, 50, 60, 70, 80])\n",
    "\n",
    "print(i[::])"
   ]
  },
  {
   "cell_type": "code",
   "execution_count": 11,
   "metadata": {},
   "outputs": [
    {
     "name": "stdout",
     "output_type": "stream",
     "text": [
      "[10 30 50 70]\n"
     ]
    }
   ],
   "source": [
    "import numpy as np\n",
    "\n",
    "i = np.array([10, 20, 30, 40, 50, 60, 70, 80])\n",
    "\n",
    "print(i[ : : 2 ])"
   ]
  },
  {
   "cell_type": "code",
   "execution_count": 12,
   "metadata": {},
   "outputs": [
    {
     "name": "stdout",
     "output_type": "stream",
     "text": [
      "[60 70 80]\n"
     ]
    }
   ],
   "source": [
    "i = np.array([\n",
    "[10, 20, 30, 40, 50], # 0 - 0 1 2 3 4\n",
    "[60, 70, 80, 90, 100] # 1 - 0 1 2 3 4\n",
    "])\n",
    "\n",
    "print(i[1, 0:3])"
   ]
  },
  {
   "cell_type": "code",
   "execution_count": 13,
   "metadata": {},
   "outputs": [
    {
     "name": "stdout",
     "output_type": "stream",
     "text": [
      "[20 30 40]\n"
     ]
    }
   ],
   "source": [
    "import numpy as np\n",
    "\n",
    "i = np.array([\n",
    "[10, 20, 30, 40, 50], # 0 - 0 1 2 3 4\n",
    "[60, 70, 80, 90, 100] # 1 - 0 1 2 3 4\n",
    "])\n",
    "\n",
    "print(i[0, 1:4])"
   ]
  },
  {
   "cell_type": "code",
   "execution_count": 14,
   "metadata": {},
   "outputs": [
    {
     "name": "stdout",
     "output_type": "stream",
     "text": [
      "[33 44]\n"
     ]
    }
   ],
   "source": [
    "import numpy as np\n",
    "\n",
    "i = np.array([\n",
    "[10, 20, 30, 40, 50], # 0 - 0 1 2 3 4\n",
    "[60, 70, 80, 90, 100], # 1 - 0 1 2 3 4\n",
    "[11, 22, 33, 44, 55] # 2 - 0 1 2 3 4\n",
    "])\n",
    "\n",
    "print(i[2, 2:4])"
   ]
  },
  {
   "cell_type": "code",
   "execution_count": 15,
   "metadata": {},
   "outputs": [
    {
     "name": "stdout",
     "output_type": "stream",
     "text": [
      "[20 70]\n"
     ]
    }
   ],
   "source": [
    "i = np.array([\n",
    "[10, 20, 30, 40, 50], # 0 - 0 1 2 3 4\n",
    "[60, 70, 80, 90, 100], # 1 - 0 1 2 3 4\n",
    "[11, 22, 33, 44, 55] # 2 - 0 1 2 3 4\n",
    "])\n",
    "\n",
    "print(i[0:2, 1])"
   ]
  },
  {
   "cell_type": "code",
   "execution_count": 16,
   "metadata": {},
   "outputs": [
    {
     "name": "stdout",
     "output_type": "stream",
     "text": [
      "[30 80 33]\n"
     ]
    }
   ],
   "source": [
    "i = np.array([\n",
    "[10, 20, 30, 40, 50], # 0 - 0 1 2 3 4\n",
    "[60, 70, 80, 90, 100], # 1 - 0 1 2 3 4\n",
    "[11, 22, 33, 44, 55], # 2 - 0 1 2 3 4\n",
    "[1, 2, 3, 4, 5] # 2 - 0 1 2 3 4\n",
    "])\n",
    "\n",
    "print(i[0:3, 2])"
   ]
  },
  {
   "cell_type": "code",
   "execution_count": 17,
   "metadata": {},
   "outputs": [
    {
     "name": "stdout",
     "output_type": "stream",
     "text": [
      "[[30 40]\n",
      " [80 90]]\n"
     ]
    }
   ],
   "source": [
    "import numpy as np\n",
    "\n",
    "i = np.array([\n",
    "[10, 20, 30, 40, 50], # 0 - 0 1 2 3 4\n",
    "[60, 70, 80, 90, 100], # 1 - 0 1 2 3 4\n",
    "[11, 22, 33, 44, 55], # 2 - 0 1 2 3 4\n",
    "[1, 2, 3, 4, 5] # 2 - 0 1 2 3 4\n",
    "])\n",
    "\n",
    "print(i[0:2, 2:4])"
   ]
  },
  {
   "cell_type": "code",
   "execution_count": 18,
   "metadata": {},
   "outputs": [
    {
     "name": "stdout",
     "output_type": "stream",
     "text": [
      "[[30 40]\n",
      " [80 90]\n",
      " [33 44]]\n"
     ]
    }
   ],
   "source": [
    "import numpy as np\n",
    "\n",
    "i = np.array([\n",
    "[10, 20, 30, 40, 50], # 0 - 0 1 2 3 4\n",
    "[60, 70, 80, 90, 100], # 1 - 0 1 2 3 4\n",
    "[11, 22, 33, 44, 55], # 2 - 0 1 2 3 4\n",
    "[1, 2, 3, 4, 5] # 2 - 0 1 2 3 4\n",
    "])\n",
    "\n",
    "print(i[0:3, -3:-1])"
   ]
  },
  {
   "cell_type": "code",
   "execution_count": null,
   "metadata": {},
   "outputs": [],
   "source": []
  }
 ],
 "metadata": {
  "kernelspec": {
   "display_name": "Python 3",
   "language": "python",
   "name": "python3"
  },
  "language_info": {
   "codemirror_mode": {
    "name": "ipython",
    "version": 3
   },
   "file_extension": ".py",
   "mimetype": "text/x-python",
   "name": "python",
   "nbconvert_exporter": "python",
   "pygments_lexer": "ipython3",
   "version": "3.8.5"
  }
 },
 "nbformat": 4,
 "nbformat_minor": 4
}
